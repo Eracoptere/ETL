{
 "cells": [
  {
   "cell_type": "code",
   "execution_count": 1,
   "id": "0851e14f",
   "metadata": {},
   "outputs": [
    {
     "name": "stderr",
     "output_type": "stream",
     "text": [
      "C:\\Users\\Ahmed\\AppData\\Local\\Temp/ipykernel_71152/334960270.py:13: SettingWithCopyWarning: \n",
      "A value is trying to be set on a copy of a slice from a DataFrame.\n",
      "Try using .loc[row_indexer,col_indexer] = value instead\n",
      "\n",
      "See the caveats in the documentation: https://pandas.pydata.org/pandas-docs/stable/user_guide/indexing.html#returning-a-view-versus-a-copy\n",
      "  exchange_rates['monnaie'] = list(exchange_rates.index)\n"
     ]
    }
   ],
   "source": [
    "import requests\n",
    "import pandas as pd\n",
    "\n",
    "import requests\n",
    "# Extraction des données taux de change via une API\n",
    "url = \"https://api.apilayer.com/exchangerates_data/latest?base=EUR&apikey=ngVF0Ysuxr6dV03od7TpSm37lF3F30yC\"\n",
    "reponse = requests.get(url)\n",
    "\n",
    "df_exchange_rates = pd.DataFrame(reponse.json())\n",
    "\n",
    "# Suppression des colonnes non necessaire\n",
    "exchange_rates = df_exchange_rates[['date','rates']]\n",
    "exchange_rates['monnaie'] = list(exchange_rates.index)\n",
    "\n",
    "taux = exchange_rates[['monnaie','rates','date']]\n",
    "\n",
    "# Conversion du dataframe en csv\n",
    "taux.to_csv(\"taux_de_change.csv\", index = False)"
   ]
  },
  {
   "cell_type": "code",
   "execution_count": null,
   "id": "12dbc326",
   "metadata": {},
   "outputs": [],
   "source": []
  }
 ],
 "metadata": {
  "kernelspec": {
   "display_name": "Python 3 (ipykernel)",
   "language": "python",
   "name": "python3"
  },
  "language_info": {
   "codemirror_mode": {
    "name": "ipython",
    "version": 3
   },
   "file_extension": ".py",
   "mimetype": "text/x-python",
   "name": "python",
   "nbconvert_exporter": "python",
   "pygments_lexer": "ipython3",
   "version": "3.9.7"
  }
 },
 "nbformat": 4,
 "nbformat_minor": 5
}
