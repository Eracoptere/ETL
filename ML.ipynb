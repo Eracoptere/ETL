{
 "cells": [
  {
   "cell_type": "code",
   "execution_count": 91,
   "id": "141f1e07",
   "metadata": {
    "scrolled": false
   },
   "outputs": [],
   "source": [
    "import pandas as pd\n",
    "import numpy as np\n",
    "import seaborn as sns\n",
    "import matplotlib.pyplot as plt\n",
    "import statsmodels.api as sm\n",
    "import statsmodels.formula.api as smf\n",
    "import scipy.stats as stats\n",
    "from scipy.stats import t, shapiro\n",
    "#from statsmodels.stats.outliers_influence import variance_inflation_factor\n",
    "import statsmodels\n",
    "from sklearn.preprocessing import StandardScaler, LabelEncoder,OneHotEncoder,MinMaxScaler\n",
    "from sklearn.compose import ColumnTransformer\n",
    "from sklearn.neighbors import KNeighborsClassifier\n",
    "from sklearn.pipeline import Pipeline\n",
    "from sklearn import cluster, metrics\n",
    "from sklearn.metrics import mean_squared_error\n",
    "from sklearn import decomposition\n",
    "from sklearn.model_selection import train_test_split\n",
    "from sklearn.linear_model import LinearRegression\n",
    "from sklearn_pandas import DataFrameMapper\n",
    "from sklearn import neighbors\n",
    "from math import sqrt"
   ]
  },
  {
   "cell_type": "code",
   "execution_count": 92,
   "id": "cb9973af",
   "metadata": {},
   "outputs": [],
   "source": [
    "df0=pd.read_csv(\"./Documents/csv/foncier_transformed.csv\",\n",
    "               dtype={'Nature mutation':object, 'Valeur fonciere':np.float64,\n",
    "                      \"Code postal\":object ,\"Commune\":object,\"Code departement\":object,\"Type local\":object,\n",
    "                      \"Surface reelle bati\":np.float64,\"Nombre pieces principales\":np.float64,\"Surface terrain\":np.float64})"
   ]
  },
  {
   "cell_type": "code",
   "execution_count": 93,
   "id": "0427cde7",
   "metadata": {},
   "outputs": [],
   "source": [
    "df=df0[['Date mutation', 'Nature mutation', 'Valeur fonciere',\n",
    "       'No voie', 'B/T/Q', 'Type de voie','Voie','Code postal', 'Commune', \"Code departement\",\n",
    "       'Type local', 'Surface reelle bati','Nombre pieces principales', 'Surface terrain']]"
   ]
  },
  {
   "cell_type": "code",
   "execution_count": 94,
   "id": "45f57201",
   "metadata": {},
   "outputs": [
    {
     "name": "stderr",
     "output_type": "stream",
     "text": [
      "C:\\Users\\UTILIS~1\\AppData\\Local\\Temp/ipykernel_1436/2523924433.py:2: SettingWithCopyWarning: \n",
      "A value is trying to be set on a copy of a slice from a DataFrame.\n",
      "Try using .loc[row_indexer,col_indexer] = value instead\n",
      "\n",
      "See the caveats in the documentation: https://pandas.pydata.org/pandas-docs/stable/user_guide/indexing.html#returning-a-view-versus-a-copy\n",
      "  df['Date mutation']=pd.to_datetime(df['Date mutation'])\n"
     ]
    }
   ],
   "source": [
    "#Changement de format de date\n",
    "df['Date mutation']=pd.to_datetime(df['Date mutation'])"
   ]
  },
  {
   "cell_type": "code",
   "execution_count": 95,
   "id": "0cbbfd36",
   "metadata": {},
   "outputs": [],
   "source": [
    "#Liste des départements dans les Pays de la Loire\n",
    "pdl=[\"44\",\"49\",\"53\",\"72\",\"85\"]\n",
    "#Filtrage sur les PdL\n",
    "df=df[df[\"Code departement\"].isin(pdl)]"
   ]
  },
  {
   "cell_type": "code",
   "execution_count": 96,
   "id": "75bdc493",
   "metadata": {},
   "outputs": [],
   "source": [
    "#Dégrossisage du jeu de données par suppression des lignes redondantes \n",
    "\n",
    "#Les dépendances\n",
    "df.drop(df[df[\"Type local\"]==\"Dépendance\"].index, inplace=True)\n",
    "\n",
    "#Suppression de doublons\n",
    "df.drop_duplicates(subset=[\"Date mutation\",\"Valeur fonciere\",\"Type de voie\",\"Voie\",\"Code postal\",\"Commune\"], inplace=True)\n",
    "\n",
    "#Suppression des lignes où la valeur foncière est inconnue\n",
    "df.drop(df[df[\"Valeur fonciere\"].isna()==True].index, inplace=True)"
   ]
  },
  {
   "cell_type": "code",
   "execution_count": 97,
   "id": "bad25b38",
   "metadata": {},
   "outputs": [],
   "source": [
    "#On ne garde que les colonnes nécessaires à l'algorithme\n",
    "df=df[[\"Date mutation\",\"Nature mutation\",\"Code postal\" ,\"Commune\",\"Code departement\",\"Type local\",\n",
    "       \"Surface reelle bati\",\"Nombre pieces principales\",\"Surface terrain\",\"Valeur fonciere\"]]\n",
    "\n",
    "#Sur chaque variable, on regarde celle qui a le plus de nan...\n",
    "#... et on filtre jusqu'à obtenir un jeu de données sans NaN\n",
    "df=df[df[\"Type local\"].isna()==False]\n",
    "df=df[df[\"Surface terrain\"].isna()==False]\n",
    "df=df[df[\"Surface reelle bati\"].isna()==False]\n",
    "df=df[df[\"Code postal\"].isna()==False]\n",
    "#df.isnull().sum()\n",
    "\n",
    "df.columns = df.columns.str.replace(' ','_')\n"
   ]
  },
  {
   "cell_type": "markdown",
   "id": "7a743dc9",
   "metadata": {},
   "source": [
    "## Gestion des outliers sur les variables numeriques"
   ]
  },
  {
   "cell_type": "code",
   "execution_count": 98,
   "id": "21c6192f",
   "metadata": {},
   "outputs": [
    {
     "data": {
      "text/plain": [
       "<AxesSubplot:xlabel='Valeur_fonciere'>"
      ]
     },
     "execution_count": 98,
     "metadata": {},
     "output_type": "execute_result"
    },
    {
     "data": {
      "image/png": "[encoded data removed]",
      "text/plain": [
       "<Figure size 432x288 with 1 Axes>"
      ]
     },
     "metadata": {
      "needs_background": "light"
     },
     "output_type": "display_data"
    }
   ],
   "source": [
    "#Pour finir, on ne garde que les valeurs foncieres supérieures à 5000€ et inférieures à pour éviter les outliers\n",
    "df=df[df['Valeur_fonciere'].astype(float)>5000]\n",
    "df=df[df['Valeur_fonciere']<460000]\n",
    "sns.boxplot(x=df[\"Valeur_fonciere\"])"
   ]
  },
  {
   "cell_type": "code",
   "execution_count": 99,
   "id": "740bf475",
   "metadata": {},
   "outputs": [
    {
     "data": {
      "text/plain": [
       "<AxesSubplot:xlabel='Surface_reelle_bati'>"
      ]
     },
     "execution_count": 99,
     "metadata": {},
     "output_type": "execute_result"
    },
    {
     "data": {
      "image/png": "[encoded data removed]",
      "text/plain": [
       "<Figure size 432x288 with 1 Axes>"
      ]
     },
     "metadata": {
      "needs_background": "light"
     },
     "output_type": "display_data"
    }
   ],
   "source": [
    "#Idem pour la surface réelle...\n",
    "df=df[df['Surface_reelle_bati']<=160]\n",
    "df=df[df['Surface_reelle_bati']>=15]\n",
    "sns.boxplot(x=df['Surface_reelle_bati'])"
   ]
  },
  {
   "cell_type": "code",
   "execution_count": 100,
   "id": "011f2571",
   "metadata": {},
   "outputs": [
    {
     "data": {
      "text/plain": [
       "<AxesSubplot:xlabel='Nombre_pieces_principales'>"
      ]
     },
     "execution_count": 100,
     "metadata": {},
     "output_type": "execute_result"
    },
    {
     "data": {
      "image/png": "[encoded data removed]",
      "text/plain": [
       "<Figure size 432x288 with 1 Axes>"
      ]
     },
     "metadata": {
      "needs_background": "light"
     },
     "output_type": "display_data"
    }
   ],
   "source": [
    "#Pour le nombre de pièces...\n",
    "df=df[df['Nombre_pieces_principales']<=7]\n",
    "sns.boxplot(x=df[\"Nombre_pieces_principales\"])"
   ]
  },
  {
   "cell_type": "code",
   "execution_count": 101,
   "id": "b64528c2",
   "metadata": {},
   "outputs": [
    {
     "data": {
      "text/plain": [
       "<AxesSubplot:xlabel='Surface_terrain'>"
      ]
     },
     "execution_count": 101,
     "metadata": {},
     "output_type": "execute_result"
    },
    {
     "data": {
      "image/png": "[encoded data removed]",
      "text/plain": [
       "<Figure size 432x288 with 1 Axes>"
      ]
     },
     "metadata": {
      "needs_background": "light"
     },
     "output_type": "display_data"
    }
   ],
   "source": [
    "#Et la surface du terrain\n",
    "df=df[df[\"Surface_terrain\"]<=1200]\n",
    "sns.boxplot(x=df[\"Surface_terrain\"])"
   ]
  },
  {
   "cell_type": "code",
   "execution_count": 102,
   "id": "e7abfcaa",
   "metadata": {},
   "outputs": [
    {
     "data": {
      "text/plain": [
       "<AxesSubplot:>"
      ]
     },
     "execution_count": 102,
     "metadata": {},
     "output_type": "execute_result"
    },
    {
     "data": {
      "image/png": "[encoded data removed]",
      "text/plain": [
       "<Figure size 432x288 with 2 Axes>"
      ]
     },
     "metadata": {
      "needs_background": "light"
     },
     "output_type": "display_data"
    }
   ],
   "source": [
    "sns.heatmap(df.corr())"
   ]
  },
  {
   "cell_type": "markdown",
   "id": "93e1c5da",
   "metadata": {},
   "source": [
    "# Régression linéaire"
   ]
  },
  {
   "cell_type": "code",
   "execution_count": 108,
   "id": "14345160",
   "metadata": {},
   "outputs": [
    {
     "name": "stdout",
     "output_type": "stream",
     "text": [
      "model score: 0.625\n"
     ]
    }
   ],
   "source": [
    "X= df.copy()\n",
    "\n",
    "y=pd.DataFrame(X[\"Valeur_fonciere\"])\n",
    "X=X.drop(columns=[\"Valeur_fonciere\",\"Date_mutation\"])\n",
    "\n",
    "#Train/test\n",
    "X_train, X_test, y_train, y_test = train_test_split(X, y, test_size=0.33, random_state=42)\n",
    "\n",
    "#Preprocessing\n",
    "numeric_features = ['Surface_reelle_bati','Nombre_pieces_principales', 'Surface_terrain']\n",
    "numeric_transformer = Pipeline(steps=[('scaler', StandardScaler())])\n",
    "\n",
    "categorical_features = ['Nature_mutation','Commune', 'Code_departement', 'Type_local']\n",
    "categorical_transformer = OneHotEncoder(handle_unknown='ignore')\n",
    "\n",
    "preprocessor = ColumnTransformer(\n",
    "    transformers=[\n",
    "        ('num', numeric_transformer, numeric_features),\n",
    "        ('cat', categorical_transformer, categorical_features)])\n",
    "\n",
    "#Execution de l'algorithme\n",
    "lr = Pipeline(steps=[('preprocessor', preprocessor),\n",
    "                      ('linear', LinearRegression())])\n",
    "\n",
    "\n",
    "lr.fit(X_train, y_train)\n",
    "print(\"model score: %.3f\" % lr.score(X_test, y_test))"
   ]
  },
  {
   "cell_type": "markdown",
   "id": "43c5404f",
   "metadata": {},
   "source": [
    "## KNN"
   ]
  },
  {
   "cell_type": "code",
   "execution_count": 112,
   "id": "3da05b46",
   "metadata": {
    "collapsed": true
   },
   "outputs": [
    {
     "data": {
      "text/html": [
       "<div>\n",
       "<style scoped>\n",
       "    .dataframe tbody tr th:only-of-type {\n",
       "        vertical-align: middle;\n",
       "    }\n",
       "\n",
       "    .dataframe tbody tr th {\n",
       "        vertical-align: top;\n",
       "    }\n",
       "\n",
       "    .dataframe thead th {\n",
       "        text-align: right;\n",
       "    }\n",
       "</style>\n",
       "<table border=\"1\" class=\"dataframe\">\n",
       "  <thead>\n",
       "    <tr style=\"text-align: right;\">\n",
       "      <th></th>\n",
       "      <th>Surface_reelle_bati</th>\n",
       "      <th>Nombre_pieces_principales</th>\n",
       "      <th>Surface_terrain</th>\n",
       "      <th>Nature_mutation_Adjudication</th>\n",
       "      <th>Nature_mutation_Echange</th>\n",
       "      <th>Nature_mutation_Vente</th>\n",
       "      <th>Nature_mutation_Vente en l'état futur d'achèvement</th>\n",
       "      <th>Nature_mutation_Vente terrain à bâtir</th>\n",
       "      <th>Code_postal_44000.0</th>\n",
       "      <th>Code_postal_44100.0</th>\n",
       "      <th>...</th>\n",
       "      <th>Commune_YVRE LE POLIN</th>\n",
       "      <th>Commune_YZERNAY</th>\n",
       "      <th>Code_departement_44</th>\n",
       "      <th>Code_departement_49</th>\n",
       "      <th>Code_departement_53</th>\n",
       "      <th>Code_departement_72</th>\n",
       "      <th>Code_departement_85</th>\n",
       "      <th>Type_local_Appartement</th>\n",
       "      <th>Type_local_Local industriel. commercial ou assimilé</th>\n",
       "      <th>Type_local_Maison</th>\n",
       "    </tr>\n",
       "  </thead>\n",
       "  <tbody>\n",
       "    <tr>\n",
       "      <th>1441120</th>\n",
       "      <td>129.0</td>\n",
       "      <td>5.0</td>\n",
       "      <td>390.0</td>\n",
       "      <td>0</td>\n",
       "      <td>0</td>\n",
       "      <td>1</td>\n",
       "      <td>0</td>\n",
       "      <td>0</td>\n",
       "      <td>0</td>\n",
       "      <td>0</td>\n",
       "      <td>...</td>\n",
       "      <td>0</td>\n",
       "      <td>0</td>\n",
       "      <td>1</td>\n",
       "      <td>0</td>\n",
       "      <td>0</td>\n",
       "      <td>0</td>\n",
       "      <td>0</td>\n",
       "      <td>0</td>\n",
       "      <td>0</td>\n",
       "      <td>1</td>\n",
       "    </tr>\n",
       "    <tr>\n",
       "      <th>1441123</th>\n",
       "      <td>40.0</td>\n",
       "      <td>2.0</td>\n",
       "      <td>121.0</td>\n",
       "      <td>0</td>\n",
       "      <td>0</td>\n",
       "      <td>1</td>\n",
       "      <td>0</td>\n",
       "      <td>0</td>\n",
       "      <td>0</td>\n",
       "      <td>0</td>\n",
       "      <td>...</td>\n",
       "      <td>0</td>\n",
       "      <td>0</td>\n",
       "      <td>1</td>\n",
       "      <td>0</td>\n",
       "      <td>0</td>\n",
       "      <td>0</td>\n",
       "      <td>0</td>\n",
       "      <td>0</td>\n",
       "      <td>0</td>\n",
       "      <td>1</td>\n",
       "    </tr>\n",
       "    <tr>\n",
       "      <th>1441128</th>\n",
       "      <td>44.0</td>\n",
       "      <td>3.0</td>\n",
       "      <td>701.0</td>\n",
       "      <td>0</td>\n",
       "      <td>0</td>\n",
       "      <td>1</td>\n",
       "      <td>0</td>\n",
       "      <td>0</td>\n",
       "      <td>0</td>\n",
       "      <td>0</td>\n",
       "      <td>...</td>\n",
       "      <td>0</td>\n",
       "      <td>0</td>\n",
       "      <td>1</td>\n",
       "      <td>0</td>\n",
       "      <td>0</td>\n",
       "      <td>0</td>\n",
       "      <td>0</td>\n",
       "      <td>0</td>\n",
       "      <td>0</td>\n",
       "      <td>1</td>\n",
       "    </tr>\n",
       "    <tr>\n",
       "      <th>1441152</th>\n",
       "      <td>110.0</td>\n",
       "      <td>5.0</td>\n",
       "      <td>386.0</td>\n",
       "      <td>0</td>\n",
       "      <td>0</td>\n",
       "      <td>1</td>\n",
       "      <td>0</td>\n",
       "      <td>0</td>\n",
       "      <td>0</td>\n",
       "      <td>1</td>\n",
       "      <td>...</td>\n",
       "      <td>0</td>\n",
       "      <td>0</td>\n",
       "      <td>1</td>\n",
       "      <td>0</td>\n",
       "      <td>0</td>\n",
       "      <td>0</td>\n",
       "      <td>0</td>\n",
       "      <td>0</td>\n",
       "      <td>0</td>\n",
       "      <td>1</td>\n",
       "    </tr>\n",
       "    <tr>\n",
       "      <th>1441174</th>\n",
       "      <td>69.0</td>\n",
       "      <td>3.0</td>\n",
       "      <td>407.0</td>\n",
       "      <td>0</td>\n",
       "      <td>0</td>\n",
       "      <td>1</td>\n",
       "      <td>0</td>\n",
       "      <td>0</td>\n",
       "      <td>0</td>\n",
       "      <td>0</td>\n",
       "      <td>...</td>\n",
       "      <td>0</td>\n",
       "      <td>0</td>\n",
       "      <td>1</td>\n",
       "      <td>0</td>\n",
       "      <td>0</td>\n",
       "      <td>0</td>\n",
       "      <td>0</td>\n",
       "      <td>0</td>\n",
       "      <td>0</td>\n",
       "      <td>1</td>\n",
       "    </tr>\n",
       "    <tr>\n",
       "      <th>...</th>\n",
       "      <td>...</td>\n",
       "      <td>...</td>\n",
       "      <td>...</td>\n",
       "      <td>...</td>\n",
       "      <td>...</td>\n",
       "      <td>...</td>\n",
       "      <td>...</td>\n",
       "      <td>...</td>\n",
       "      <td>...</td>\n",
       "      <td>...</td>\n",
       "      <td>...</td>\n",
       "      <td>...</td>\n",
       "      <td>...</td>\n",
       "      <td>...</td>\n",
       "      <td>...</td>\n",
       "      <td>...</td>\n",
       "      <td>...</td>\n",
       "      <td>...</td>\n",
       "      <td>...</td>\n",
       "      <td>...</td>\n",
       "      <td>...</td>\n",
       "    </tr>\n",
       "    <tr>\n",
       "      <th>2850813</th>\n",
       "      <td>120.0</td>\n",
       "      <td>5.0</td>\n",
       "      <td>215.0</td>\n",
       "      <td>0</td>\n",
       "      <td>0</td>\n",
       "      <td>1</td>\n",
       "      <td>0</td>\n",
       "      <td>0</td>\n",
       "      <td>0</td>\n",
       "      <td>0</td>\n",
       "      <td>...</td>\n",
       "      <td>0</td>\n",
       "      <td>0</td>\n",
       "      <td>0</td>\n",
       "      <td>0</td>\n",
       "      <td>0</td>\n",
       "      <td>0</td>\n",
       "      <td>1</td>\n",
       "      <td>0</td>\n",
       "      <td>0</td>\n",
       "      <td>1</td>\n",
       "    </tr>\n",
       "    <tr>\n",
       "      <th>2850817</th>\n",
       "      <td>84.0</td>\n",
       "      <td>4.0</td>\n",
       "      <td>690.0</td>\n",
       "      <td>0</td>\n",
       "      <td>0</td>\n",
       "      <td>1</td>\n",
       "      <td>0</td>\n",
       "      <td>0</td>\n",
       "      <td>0</td>\n",
       "      <td>0</td>\n",
       "      <td>...</td>\n",
       "      <td>0</td>\n",
       "      <td>0</td>\n",
       "      <td>0</td>\n",
       "      <td>0</td>\n",
       "      <td>0</td>\n",
       "      <td>0</td>\n",
       "      <td>1</td>\n",
       "      <td>0</td>\n",
       "      <td>0</td>\n",
       "      <td>1</td>\n",
       "    </tr>\n",
       "    <tr>\n",
       "      <th>2850822</th>\n",
       "      <td>54.0</td>\n",
       "      <td>1.0</td>\n",
       "      <td>253.0</td>\n",
       "      <td>0</td>\n",
       "      <td>0</td>\n",
       "      <td>1</td>\n",
       "      <td>0</td>\n",
       "      <td>0</td>\n",
       "      <td>0</td>\n",
       "      <td>0</td>\n",
       "      <td>...</td>\n",
       "      <td>0</td>\n",
       "      <td>0</td>\n",
       "      <td>0</td>\n",
       "      <td>0</td>\n",
       "      <td>0</td>\n",
       "      <td>0</td>\n",
       "      <td>1</td>\n",
       "      <td>0</td>\n",
       "      <td>0</td>\n",
       "      <td>1</td>\n",
       "    </tr>\n",
       "    <tr>\n",
       "      <th>2850833</th>\n",
       "      <td>94.0</td>\n",
       "      <td>4.0</td>\n",
       "      <td>390.0</td>\n",
       "      <td>0</td>\n",
       "      <td>0</td>\n",
       "      <td>1</td>\n",
       "      <td>0</td>\n",
       "      <td>0</td>\n",
       "      <td>0</td>\n",
       "      <td>0</td>\n",
       "      <td>...</td>\n",
       "      <td>0</td>\n",
       "      <td>0</td>\n",
       "      <td>0</td>\n",
       "      <td>0</td>\n",
       "      <td>0</td>\n",
       "      <td>0</td>\n",
       "      <td>1</td>\n",
       "      <td>0</td>\n",
       "      <td>0</td>\n",
       "      <td>1</td>\n",
       "    </tr>\n",
       "    <tr>\n",
       "      <th>2850835</th>\n",
       "      <td>103.0</td>\n",
       "      <td>4.0</td>\n",
       "      <td>619.0</td>\n",
       "      <td>0</td>\n",
       "      <td>0</td>\n",
       "      <td>1</td>\n",
       "      <td>0</td>\n",
       "      <td>0</td>\n",
       "      <td>0</td>\n",
       "      <td>0</td>\n",
       "      <td>...</td>\n",
       "      <td>0</td>\n",
       "      <td>0</td>\n",
       "      <td>0</td>\n",
       "      <td>0</td>\n",
       "      <td>0</td>\n",
       "      <td>0</td>\n",
       "      <td>1</td>\n",
       "      <td>0</td>\n",
       "      <td>0</td>\n",
       "      <td>1</td>\n",
       "    </tr>\n",
       "  </tbody>\n",
       "</table>\n",
       "<p>38386 rows × 1528 columns</p>\n",
       "</div>"
      ],
      "text/plain": [
       "         Surface_reelle_bati  Nombre_pieces_principales  Surface_terrain  \\\n",
       "1441120                129.0                        5.0            390.0   \n",
       "1441123                 40.0                        2.0            121.0   \n",
       "1441128                 44.0                        3.0            701.0   \n",
       "1441152                110.0                        5.0            386.0   \n",
       "1441174                 69.0                        3.0            407.0   \n",
       "...                      ...                        ...              ...   \n",
       "2850813                120.0                        5.0            215.0   \n",
       "2850817                 84.0                        4.0            690.0   \n",
       "2850822                 54.0                        1.0            253.0   \n",
       "2850833                 94.0                        4.0            390.0   \n",
       "2850835                103.0                        4.0            619.0   \n",
       "\n",
       "         Nature_mutation_Adjudication  Nature_mutation_Echange  \\\n",
       "1441120                             0                        0   \n",
       "1441123                             0                        0   \n",
       "1441128                             0                        0   \n",
       "1441152                             0                        0   \n",
       "1441174                             0                        0   \n",
       "...                               ...                      ...   \n",
       "2850813                             0                        0   \n",
       "2850817                             0                        0   \n",
       "2850822                             0                        0   \n",
       "2850833                             0                        0   \n",
       "2850835                             0                        0   \n",
       "\n",
       "         Nature_mutation_Vente  \\\n",
       "1441120                      1   \n",
       "1441123                      1   \n",
       "1441128                      1   \n",
       "1441152                      1   \n",
       "1441174                      1   \n",
       "...                        ...   \n",
       "2850813                      1   \n",
       "2850817                      1   \n",
       "2850822                      1   \n",
       "2850833                      1   \n",
       "2850835                      1   \n",
       "\n",
       "         Nature_mutation_Vente en l'état futur d'achèvement  \\\n",
       "1441120                                                  0    \n",
       "1441123                                                  0    \n",
       "1441128                                                  0    \n",
       "1441152                                                  0    \n",
       "1441174                                                  0    \n",
       "...                                                    ...    \n",
       "2850813                                                  0    \n",
       "2850817                                                  0    \n",
       "2850822                                                  0    \n",
       "2850833                                                  0    \n",
       "2850835                                                  0    \n",
       "\n",
       "         Nature_mutation_Vente terrain à bâtir  Code_postal_44000.0  \\\n",
       "1441120                                      0                    0   \n",
       "1441123                                      0                    0   \n",
       "1441128                                      0                    0   \n",
       "1441152                                      0                    0   \n",
       "1441174                                      0                    0   \n",
       "...                                        ...                  ...   \n",
       "2850813                                      0                    0   \n",
       "2850817                                      0                    0   \n",
       "2850822                                      0                    0   \n",
       "2850833                                      0                    0   \n",
       "2850835                                      0                    0   \n",
       "\n",
       "         Code_postal_44100.0  ...  Commune_YVRE LE POLIN  Commune_YZERNAY  \\\n",
       "1441120                    0  ...                      0                0   \n",
       "1441123                    0  ...                      0                0   \n",
       "1441128                    0  ...                      0                0   \n",
       "1441152                    1  ...                      0                0   \n",
       "1441174                    0  ...                      0                0   \n",
       "...                      ...  ...                    ...              ...   \n",
       "2850813                    0  ...                      0                0   \n",
       "2850817                    0  ...                      0                0   \n",
       "2850822                    0  ...                      0                0   \n",
       "2850833                    0  ...                      0                0   \n",
       "2850835                    0  ...                      0                0   \n",
       "\n",
       "         Code_departement_44  Code_departement_49  Code_departement_53  \\\n",
       "1441120                    1                    0                    0   \n",
       "1441123                    1                    0                    0   \n",
       "1441128                    1                    0                    0   \n",
       "1441152                    1                    0                    0   \n",
       "1441174                    1                    0                    0   \n",
       "...                      ...                  ...                  ...   \n",
       "2850813                    0                    0                    0   \n",
       "2850817                    0                    0                    0   \n",
       "2850822                    0                    0                    0   \n",
       "2850833                    0                    0                    0   \n",
       "2850835                    0                    0                    0   \n",
       "\n",
       "         Code_departement_72  Code_departement_85  Type_local_Appartement  \\\n",
       "1441120                    0                    0                       0   \n",
       "1441123                    0                    0                       0   \n",
       "1441128                    0                    0                       0   \n",
       "1441152                    0                    0                       0   \n",
       "1441174                    0                    0                       0   \n",
       "...                      ...                  ...                     ...   \n",
       "2850813                    0                    1                       0   \n",
       "2850817                    0                    1                       0   \n",
       "2850822                    0                    1                       0   \n",
       "2850833                    0                    1                       0   \n",
       "2850835                    0                    1                       0   \n",
       "\n",
       "         Type_local_Local industriel. commercial ou assimilé  \\\n",
       "1441120                                                  0     \n",
       "1441123                                                  0     \n",
       "1441128                                                  0     \n",
       "1441152                                                  0     \n",
       "1441174                                                  0     \n",
       "...                                                    ...     \n",
       "2850813                                                  0     \n",
       "2850817                                                  0     \n",
       "2850822                                                  0     \n",
       "2850833                                                  0     \n",
       "2850835                                                  0     \n",
       "\n",
       "         Type_local_Maison  \n",
       "1441120                  1  \n",
       "1441123                  1  \n",
       "1441128                  1  \n",
       "1441152                  1  \n",
       "1441174                  1  \n",
       "...                    ...  \n",
       "2850813                  1  \n",
       "2850817                  1  \n",
       "2850822                  1  \n",
       "2850833                  1  \n",
       "2850835                  1  \n",
       "\n",
       "[38386 rows x 1528 columns]"
      ]
     },
     "execution_count": 112,
     "metadata": {},
     "output_type": "execute_result"
    }
   ],
   "source": [
    "X=df.copy()\n",
    "\n",
    "#Dummies pour les variables catégorielles\n",
    "X=pd.get_dummies(X)\n",
    "y=X[\"Valeur_fonciere\"]\n",
    "X=X.drop(columns=[\"Valeur_fonciere\",\"Date_mutation\"])\n",
    "\n",
    "#Train/test\n",
    "X_train, X_test, y_train, y_test = train_test_split(X, y, test_size=0.2)\n",
    "\n",
    "#standardisation\n",
    "scaler = StandardScaler()\n",
    "\n",
    "x_train_scaled = scaler.fit_transform(X_train)\n",
    "x_train = pd.DataFrame(x_train_scaled)\n",
    "x_test_scaled = scaler.fit_transform(X_test)\n",
    "x_test = pd.DataFrame(x_test_scaled)\n",
    "X"
   ]
  },
  {
   "cell_type": "code",
   "execution_count": 124,
   "id": "3244e191",
   "metadata": {},
   "outputs": [
    {
     "data": {
      "text/plain": [
       "66137.73389496509"
      ]
     },
     "execution_count": 124,
     "metadata": {},
     "output_type": "execute_result"
    }
   ],
   "source": [
    "#calcul rmse\n",
    "model = neighbors.KNeighborsRegressor(n_neighbors=9)\n",
    "model.fit(x_train,y_train)\n",
    "pred = model.predict(x_test)\n",
    "error = sqrt(mean_squared_error(y_test,pred)) \n",
    "error"
   ]
  },
  {
   "cell_type": "markdown",
   "id": "040d3e1f",
   "metadata": {},
   "source": [
    "#### Sert à déterminer le n_neighbors\n",
    "from sklearn.model_selection import GridSearchCV\n",
    "params = {'n_neighbors':list(range(1,15))}\n",
    "\n",
    "knn = neighbors.KNeighborsRegressor()\n",
    "\n",
    "model = GridSearchCV(knn, params, cv=5)\n",
    "model.fit(x_train,y_train)\n",
    "model.best_params_\n"
   ]
  },
  {
   "cell_type": "markdown",
   "id": "9a8daed9",
   "metadata": {},
   "source": [
    "## Conclusion\n",
    "La régression linéaire semble plus appropriée que le knn"
   ]
  },
  {
   "cell_type": "code",
   "execution_count": null,
   "id": "c88d3a8a",
   "metadata": {},
   "outputs": [],
   "source": []
  }
 ],
 "metadata": {
  "kernelspec": {
   "display_name": "Python 3 (ipykernel)",
   "language": "python",
   "name": "python3"
  },
  "language_info": {
   "codemirror_mode": {
    "name": "ipython",
    "version": 3
   },
   "file_extension": ".py",
   "mimetype": "text/x-python",
   "name": "python",
   "nbconvert_exporter": "python",
   "pygments_lexer": "ipython3",
   "version": "3.9.7"
  }
 },
 "nbformat": 4,
 "nbformat_minor": 5
}
