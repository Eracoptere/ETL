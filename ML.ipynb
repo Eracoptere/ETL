{
 "cells": [
  {
   "cell_type": "markdown",
   "id": "2b233b2d",
   "metadata": {},
   "source": [
    "## Import et nettoyage des données"
   ]
  },
  {
   "cell_type": "code",
   "execution_count": 1,
   "id": "141f1e07",
   "metadata": {
    "scrolled": false
   },
   "outputs": [],
   "source": [
    "import pandas as pd\n",
    "import numpy as np\n",
    "import seaborn as sns\n",
    "import matplotlib.pyplot as plt\n",
    "import statsmodels.api as sm\n",
    "import statsmodels.formula.api as smf\n",
    "import scipy.stats as stats\n",
    "from scipy.stats import t, shapiro\n",
    "#from statsmodels.stats.outliers_influence import variance_inflation_factor\n",
    "import statsmodels\n",
    "from sklearn.preprocessing import StandardScaler,OneHotEncoder\n",
    "from sklearn.compose import ColumnTransformer\n",
    "from sklearn.neighbors import KNeighborsClassifier\n",
    "from sklearn.pipeline import Pipeline\n",
    "from sklearn import cluster, metrics\n",
    "from sklearn.metrics import mean_squared_error\n",
    "from sklearn import decomposition\n",
    "from sklearn.model_selection import train_test_split\n",
    "from sklearn.linear_model import LinearRegression\n",
    "from sklearn import neighbors\n",
    "from math import sqrt"
   ]
  },
  {
   "cell_type": "code",
   "execution_count": 2,
   "id": "cb9973af",
   "metadata": {},
   "outputs": [],
   "source": [
    "df0=pd.read_csv(\"./Documents/csv/foncier_transformed.csv\",\n",
    "               dtype={'Nature mutation':object, 'Valeur fonciere':np.float64,\n",
    "                      \"Code postal\":object ,\"Commune\":object,\"Code departement\":object,\"Type local\":object,\n",
    "                      \"Surface reelle bati\":np.float64,\"Nombre pieces principales\":np.float64,\"Surface terrain\":np.float64})"
   ]
  },
  {
   "cell_type": "code",
   "execution_count": 3,
   "id": "0427cde7",
   "metadata": {},
   "outputs": [],
   "source": [
    "df=df0[['Date mutation', 'Nature mutation', 'Valeur fonciere',\n",
    "       'No voie', 'B/T/Q', 'Type de voie','Voie','Code postal', 'Commune', \"Code departement\",\n",
    "       'Type local', 'Surface reelle bati','Nombre pieces principales', 'Surface terrain']]"
   ]
  },
  {
   "cell_type": "code",
   "execution_count": 4,
   "id": "45f57201",
   "metadata": {},
   "outputs": [
    {
     "name": "stderr",
     "output_type": "stream",
     "text": [
      "C:\\Users\\UTILIS~1\\AppData\\Local\\Temp/ipykernel_420/2523924433.py:2: SettingWithCopyWarning: \n",
      "A value is trying to be set on a copy of a slice from a DataFrame.\n",
      "Try using .loc[row_indexer,col_indexer] = value instead\n",
      "\n",
      "See the caveats in the documentation: https://pandas.pydata.org/pandas-docs/stable/user_guide/indexing.html#returning-a-view-versus-a-copy\n",
      "  df['Date mutation']=pd.to_datetime(df['Date mutation'])\n"
     ]
    }
   ],
   "source": [
    "#Changement de format de date\n",
    "df['Date mutation']=pd.to_datetime(df['Date mutation'])"
   ]
  },
  {
   "cell_type": "code",
   "execution_count": 5,
   "id": "0cbbfd36",
   "metadata": {},
   "outputs": [],
   "source": [
    "#Liste des départements dans les Pays de la Loire\n",
    "pdl=[\"44\",\"49\",\"53\",\"72\",\"85\"]\n",
    "#Filtrage sur les PdL\n",
    "df=df[df[\"Code departement\"].isin(pdl)]"
   ]
  },
  {
   "cell_type": "code",
   "execution_count": 6,
   "id": "75bdc493",
   "metadata": {},
   "outputs": [],
   "source": [
    "#Dégrossisage du jeu de données par suppression des lignes redondantes \n",
    "#Les dépendances\n",
    "df.drop(df[df[\"Type local\"]==\"Dépendance\"].index, inplace=True)\n",
    "\n",
    "#Suppression de doublons\n",
    "df.drop_duplicates(subset=[\"Date mutation\",\"Valeur fonciere\",\"Type de voie\",\"Voie\",\"Code postal\",\"Commune\"], inplace=True)\n",
    "\n",
    "#Suppression des Nans\n",
    "df.drop(df[df[\"Valeur fonciere\"].isna()==True].index, inplace=True)"
   ]
  },
  {
   "cell_type": "code",
   "execution_count": 7,
   "id": "bad25b38",
   "metadata": {},
   "outputs": [],
   "source": [
    "#On ne garde que les colonnes nécessaires à l'algorithme\n",
    "df=df[[\"Date mutation\",\"Nature mutation\",\"Code postal\" ,\"Commune\",\"Code departement\",\"Type local\",\n",
    "       \"Surface reelle bati\",\"Nombre pieces principales\",\"Surface terrain\",\"Valeur fonciere\"]]\n",
    "\n",
    "#Sur chaque variable, on regarde celle qui a le plus de nan...\n",
    "#... et on filtre jusqu'à obtenir un jeu de données sans NaN\n",
    "df.dropna(inplace=True)\n",
    "\n",
    "#Renomme les colonnes du df\n",
    "df.columns = df.columns.str.replace(' ','_')\n"
   ]
  },
  {
   "cell_type": "markdown",
   "id": "7a743dc9",
   "metadata": {},
   "source": [
    "## Gestion des outliers sur les variables numeriques"
   ]
  },
  {
   "cell_type": "code",
   "execution_count": 8,
   "id": "21c6192f",
   "metadata": {},
   "outputs": [
    {
     "data": {
      "text/plain": [
       "<AxesSubplot:xlabel='Valeur_fonciere'>"
      ]
     },
     "execution_count": 8,
     "metadata": {},
     "output_type": "execute_result"
    },
    {
     "data": {
      "image/png": "[encoded data removed]",
      "text/plain": [
       "<Figure size 432x288 with 1 Axes>"
      ]
     },
     "metadata": {
      "needs_background": "light"
     },
     "output_type": "display_data"
    }
   ],
   "source": [
    "#Pour finir, on ne garde que les valeurs foncieres qui ne sont pas des outliers...\n",
    "df=df[df['Valeur_fonciere'].astype(float)>5000]\n",
    "df=df[df['Valeur_fonciere']<460000]\n",
    "sns.boxplot(x=df[\"Valeur_fonciere\"])"
   ]
  },
  {
   "cell_type": "code",
   "execution_count": 9,
   "id": "740bf475",
   "metadata": {},
   "outputs": [
    {
     "data": {
      "text/plain": [
       "<AxesSubplot:xlabel='Surface_reelle_bati'>"
      ]
     },
     "execution_count": 9,
     "metadata": {},
     "output_type": "execute_result"
    },
    {
     "data": {
      "image/png": "[encoded data removed]",
      "text/plain": [
       "<Figure size 432x288 with 1 Axes>"
      ]
     },
     "metadata": {
      "needs_background": "light"
     },
     "output_type": "display_data"
    }
   ],
   "source": [
    "#Idem pour la surface réelle...\n",
    "df=df[df['Surface_reelle_bati']<=160]\n",
    "df=df[df['Surface_reelle_bati']>=15]\n",
    "sns.boxplot(x=df['Surface_reelle_bati'])"
   ]
  },
  {
   "cell_type": "code",
   "execution_count": 10,
   "id": "011f2571",
   "metadata": {},
   "outputs": [
    {
     "data": {
      "text/plain": [
       "<AxesSubplot:xlabel='Nombre_pieces_principales'>"
      ]
     },
     "execution_count": 10,
     "metadata": {},
     "output_type": "execute_result"
    },
    {
     "data": {
      "image/png": "[encoded data removed]",
      "text/plain": [
       "<Figure size 432x288 with 1 Axes>"
      ]
     },
     "metadata": {
      "needs_background": "light"
     },
     "output_type": "display_data"
    }
   ],
   "source": [
    "#Pour le nombre de pièces...\n",
    "df=df[df['Nombre_pieces_principales']<=7]\n",
    "sns.boxplot(x=df[\"Nombre_pieces_principales\"])"
   ]
  },
  {
   "cell_type": "code",
   "execution_count": 11,
   "id": "b64528c2",
   "metadata": {},
   "outputs": [
    {
     "data": {
      "text/plain": [
       "<AxesSubplot:xlabel='Surface_terrain'>"
      ]
     },
     "execution_count": 11,
     "metadata": {},
     "output_type": "execute_result"
    },
    {
     "data": {
      "image/png": "[encoded data removed]",
      "text/plain": [
       "<Figure size 432x288 with 1 Axes>"
      ]
     },
     "metadata": {
      "needs_background": "light"
     },
     "output_type": "display_data"
    }
   ],
   "source": [
    "#Et la surface du terrain\n",
    "df=df[df[\"Surface_terrain\"]<=1200]\n",
    "sns.boxplot(x=df[\"Surface_terrain\"])"
   ]
  },
  {
   "cell_type": "markdown",
   "id": "93e1c5da",
   "metadata": {},
   "source": [
    "# Régression linéaire"
   ]
  },
  {
   "cell_type": "code",
   "execution_count": 12,
   "id": "14345160",
   "metadata": {},
   "outputs": [
    {
     "name": "stdout",
     "output_type": "stream",
     "text": [
      "model score: 0.625\n"
     ]
    }
   ],
   "source": [
    "X= df.copy()\n",
    "\n",
    "y=pd.DataFrame(X[\"Valeur_fonciere\"])\n",
    "X=X.drop(columns=[\"Valeur_fonciere\",\"Date_mutation\"])\n",
    "\n",
    "#Train/test\n",
    "X_train, X_test, y_train, y_test = train_test_split(X, y, test_size=0.33, random_state=42)\n",
    "\n",
    "#Preprocessing\n",
    "numeric_features = ['Surface_reelle_bati','Nombre_pieces_principales', 'Surface_terrain']\n",
    "numeric_transformer = Pipeline(steps=[('scaler', StandardScaler())])\n",
    "\n",
    "categorical_features = ['Nature_mutation','Commune', 'Code_departement', 'Type_local']\n",
    "categorical_transformer = OneHotEncoder(handle_unknown='ignore')\n",
    "\n",
    "preprocessor = ColumnTransformer(\n",
    "    transformers=[\n",
    "        ('num', numeric_transformer, numeric_features),\n",
    "        ('cat', categorical_transformer, categorical_features)])\n",
    "\n",
    "#Execution de l'algorithme\n",
    "lr = Pipeline(steps=[('preprocessor', preprocessor),\n",
    "                      ('linear', LinearRegression())])\n",
    "\n",
    "\n",
    "lr.fit(X_train, y_train)\n",
    "print(\"model score: %.3f\" % lr.score(X_test, y_test))"
   ]
  },
  {
   "cell_type": "markdown",
   "id": "43c5404f",
   "metadata": {},
   "source": [
    "## KNN"
   ]
  },
  {
   "cell_type": "code",
   "execution_count": 13,
   "id": "3da05b46",
   "metadata": {},
   "outputs": [
    {
     "data": {
      "text/plain": [
       "65176.391801467595"
      ]
     },
     "execution_count": 13,
     "metadata": {},
     "output_type": "execute_result"
    }
   ],
   "source": [
    "X=df.copy()\n",
    "\n",
    "#Dummies pour les variables catégorielles\n",
    "X=pd.get_dummies(X)\n",
    "y=X[\"Valeur_fonciere\"]\n",
    "X=X.drop(columns=[\"Valeur_fonciere\",\"Date_mutation\"])\n",
    "\n",
    "#Train/test\n",
    "X_train, X_test, y_train, y_test = train_test_split(X, y, test_size=0.2)\n",
    "\n",
    "#Standardisation\n",
    "scaler = StandardScaler()\n",
    "\n",
    "x_train_scaled = scaler.fit_transform(X_train)\n",
    "x_train = pd.DataFrame(x_train_scaled)\n",
    "x_test_scaled = scaler.fit_transform(X_test)\n",
    "x_test = pd.DataFrame(x_test_scaled)\n",
    "\n",
    "#calcul rmse\n",
    "model = neighbors.KNeighborsRegressor(n_neighbors=9)\n",
    "model.fit(x_train,y_train)\n",
    "pred = model.predict(x_test)\n",
    "error = sqrt(mean_squared_error(y_test,pred)) \n",
    "error"
   ]
  },
  {
   "cell_type": "markdown",
   "id": "040d3e1f",
   "metadata": {},
   "source": [
    "#### Sert à déterminer le n_neighbors\n",
    "from sklearn.model_selection import GridSearchCV\n",
    "params = {'n_neighbors':list(range(1,15))}\n",
    "\n",
    "knn = neighbors.KNeighborsRegressor()\n",
    "\n",
    "model = GridSearchCV(knn, params, cv=5)\n",
    "model.fit(x_train,y_train)\n",
    "model.best_params_\n"
   ]
  },
  {
   "cell_type": "markdown",
   "id": "9a8daed9",
   "metadata": {},
   "source": [
    "## Conclusion\n",
    "### La régression linéaire semble plus appropriée que le knn au vu des scores/métriques des algorithmes"
   ]
  }
 ],
 "metadata": {
  "kernelspec": {
   "display_name": "Python 3 (ipykernel)",
   "language": "python",
   "name": "python3"
  },
  "language_info": {
   "codemirror_mode": {
    "name": "ipython",
    "version": 3
   },
   "file_extension": ".py",
   "mimetype": "text/x-python",
   "name": "python",
   "nbconvert_exporter": "python",
   "pygments_lexer": "ipython3",
   "version": "3.9.7"
  }
 },
 "nbformat": 4,
 "nbformat_minor": 5
}
